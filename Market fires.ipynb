{
 "cells": [
  {
   "cell_type": "markdown",
   "metadata": {},
   "source": [
    "# Market fires in Nigeria 2020"
   ]
  },
  {
   "cell_type": "markdown",
   "metadata": {},
   "source": [
    "### Overview\n",
    "The market fires dataset is study on some cases market fires in Nigeria around the year 2020.\n",
    "There are about twenty columns present in this set that describe the name, location, cause and control of each fire outbreak. \n",
    "This analysis looks towards drawing conclusions on and raising possible solutions to market fires in Nigeria."
   ]
  },
  {
   "cell_type": "code",
   "execution_count": 49,
   "metadata": {
    "scrolled": true
   },
   "outputs": [],
   "source": [
    "import numpy as np\n",
    "import pandas as pd\n",
    "import matplotlib.pyplot as plt\n",
    "%matplotlib inline"
   ]
  },
  {
   "cell_type": "markdown",
   "metadata": {},
   "source": [
    "### Data Wranging"
   ]
  },
  {
   "cell_type": "code",
   "execution_count": 50,
   "metadata": {
    "scrolled": true
   },
   "outputs": [],
   "source": [
    "df = pd.read_csv('Market Fires Dataset.csv')"
   ]
  },
  {
   "cell_type": "code",
   "execution_count": 51,
   "metadata": {
    "scrolled": false
   },
   "outputs": [
    {
     "data": {
      "text/html": [
       "<div>\n",
       "<style scoped>\n",
       "    .dataframe tbody tr th:only-of-type {\n",
       "        vertical-align: middle;\n",
       "    }\n",
       "\n",
       "    .dataframe tbody tr th {\n",
       "        vertical-align: top;\n",
       "    }\n",
       "\n",
       "    .dataframe thead th {\n",
       "        text-align: right;\n",
       "    }\n",
       "</style>\n",
       "<table border=\"1\" class=\"dataframe\">\n",
       "  <thead>\n",
       "    <tr style=\"text-align: right;\">\n",
       "      <th></th>\n",
       "      <th>Identifier</th>\n",
       "      <th>Date of Fire</th>\n",
       "      <th>Market Name</th>\n",
       "      <th>Src</th>\n",
       "      <th>State</th>\n",
       "      <th>Region</th>\n",
       "      <th>Type of Market</th>\n",
       "      <th>LGA</th>\n",
       "      <th>Actual Start Location</th>\n",
       "      <th>Fire put out by</th>\n",
       "      <th>Reported Start Time</th>\n",
       "      <th>Reported Time Put Out</th>\n",
       "      <th>Fatalities</th>\n",
       "      <th>Looting</th>\n",
       "      <th>Reported Causes</th>\n",
       "      <th>Recurring?</th>\n",
       "      <th>When</th>\n",
       "      <th>Recurring src</th>\n",
       "      <th>Estimated Loss (N)</th>\n",
       "      <th>Effective Use of Fire Extinguishers</th>\n",
       "    </tr>\n",
       "  </thead>\n",
       "  <tbody>\n",
       "    <tr>\n",
       "      <th>0</th>\n",
       "      <td>NaN</td>\n",
       "      <td>31-Dec-19</td>\n",
       "      <td>Oja Bisi Market</td>\n",
       "      <td>https://www.voiceairmedia.com/2019/12/few-hour...</td>\n",
       "      <td>Ekiti State</td>\n",
       "      <td>South-West</td>\n",
       "      <td>General Goods</td>\n",
       "      <td>Ado Ekiti</td>\n",
       "      <td>Unspecified</td>\n",
       "      <td>Firefighters</td>\n",
       "      <td>NaN</td>\n",
       "      <td>NaN</td>\n",
       "      <td>Unknown</td>\n",
       "      <td>Unknown</td>\n",
       "      <td>Generator Fire</td>\n",
       "      <td>No</td>\n",
       "      <td>N/a</td>\n",
       "      <td>NaN</td>\n",
       "      <td>Undisclosed</td>\n",
       "      <td>NaN</td>\n",
       "    </tr>\n",
       "    <tr>\n",
       "      <th>1</th>\n",
       "      <td>NaN</td>\n",
       "      <td>01-Jan-20</td>\n",
       "      <td>Timber section Industrial Market Umuahia</td>\n",
       "      <td>https://punchng.com/fire-destroys-umuahia-indu...</td>\n",
       "      <td>Abia State</td>\n",
       "      <td>South-East</td>\n",
       "      <td>Timber Market</td>\n",
       "      <td>Umuahia</td>\n",
       "      <td>Timber Section</td>\n",
       "      <td>Firefighters</td>\n",
       "      <td>NaN</td>\n",
       "      <td>NaN</td>\n",
       "      <td>No</td>\n",
       "      <td>Unknown</td>\n",
       "      <td>NaN</td>\n",
       "      <td>Yes</td>\n",
       "      <td>29-Jan-10</td>\n",
       "      <td>https://allafrica.com/stories/201002030633.html</td>\n",
       "      <td>10,000,000.00</td>\n",
       "      <td>NaN</td>\n",
       "    </tr>\n",
       "    <tr>\n",
       "      <th>2</th>\n",
       "      <td>NaN</td>\n",
       "      <td>03-Jan-20</td>\n",
       "      <td>Amassoma NDU Shopping complex</td>\n",
       "      <td>https://www.vanguardngr.com/2020/01/fire-destr...</td>\n",
       "      <td>Bayelsa State</td>\n",
       "      <td>South-South</td>\n",
       "      <td>Roadside Shops</td>\n",
       "      <td>Southern Ijaw LGA</td>\n",
       "      <td>Shopping complex</td>\n",
       "      <td>Traders</td>\n",
       "      <td>4:00 PM</td>\n",
       "      <td>NaN</td>\n",
       "      <td>No</td>\n",
       "      <td>Unknown</td>\n",
       "      <td>Refuse Fire</td>\n",
       "      <td>No</td>\n",
       "      <td>N/a</td>\n",
       "      <td>NaN</td>\n",
       "      <td>Undisclosed</td>\n",
       "      <td>NaN</td>\n",
       "    </tr>\n",
       "    <tr>\n",
       "      <th>3</th>\n",
       "      <td>NaN</td>\n",
       "      <td>03-Jan-20</td>\n",
       "      <td>Ogbete Market</td>\n",
       "      <td>https://www.vanguardngr.com/2020/01/breaking-f...</td>\n",
       "      <td>Enugu State</td>\n",
       "      <td>South-East</td>\n",
       "      <td>General Goods</td>\n",
       "      <td>Enugu North LG</td>\n",
       "      <td>Foam Shop</td>\n",
       "      <td>Firefighters</td>\n",
       "      <td>2:00 PM</td>\n",
       "      <td>NaN</td>\n",
       "      <td>No</td>\n",
       "      <td>No</td>\n",
       "      <td>Generator Fire</td>\n",
       "      <td>No</td>\n",
       "      <td>N/a</td>\n",
       "      <td>NaN</td>\n",
       "      <td>Undisclosed</td>\n",
       "      <td>Yes</td>\n",
       "    </tr>\n",
       "    <tr>\n",
       "      <th>4</th>\n",
       "      <td>NaN</td>\n",
       "      <td>05-Jan-20</td>\n",
       "      <td>Akesan Market</td>\n",
       "      <td>https://guardian.ng/news/traders-count-losses-...</td>\n",
       "      <td>Oyo State</td>\n",
       "      <td>South-West</td>\n",
       "      <td>General Goods</td>\n",
       "      <td>Oyo East LGA</td>\n",
       "      <td>Unspecified</td>\n",
       "      <td>Firefighters</td>\n",
       "      <td>12:30 AM</td>\n",
       "      <td>NaN</td>\n",
       "      <td>Yes</td>\n",
       "      <td>Yes</td>\n",
       "      <td>Unknown</td>\n",
       "      <td>No</td>\n",
       "      <td>N/a</td>\n",
       "      <td>NaN</td>\n",
       "      <td>20,000,000,000.00</td>\n",
       "      <td>No</td>\n",
       "    </tr>\n",
       "  </tbody>\n",
       "</table>\n",
       "</div>"
      ],
      "text/plain": [
       "   Identifier Date of Fire                               Market Name  \\\n",
       "0         NaN    31-Dec-19                           Oja Bisi Market   \n",
       "1         NaN    01-Jan-20  Timber section Industrial Market Umuahia   \n",
       "2         NaN    03-Jan-20             Amassoma NDU Shopping complex   \n",
       "3         NaN    03-Jan-20                             Ogbete Market   \n",
       "4         NaN    05-Jan-20                             Akesan Market   \n",
       "\n",
       "                                                 Src          State  \\\n",
       "0  https://www.voiceairmedia.com/2019/12/few-hour...    Ekiti State   \n",
       "1  https://punchng.com/fire-destroys-umuahia-indu...     Abia State   \n",
       "2  https://www.vanguardngr.com/2020/01/fire-destr...  Bayelsa State   \n",
       "3  https://www.vanguardngr.com/2020/01/breaking-f...    Enugu State   \n",
       "4  https://guardian.ng/news/traders-count-losses-...      Oyo State   \n",
       "\n",
       "       Region   Type of Market                LGA Actual Start Location  \\\n",
       "0   South-West   General Goods          Ado Ekiti           Unspecified   \n",
       "1   South-East   Timber Market            Umuahia        Timber Section   \n",
       "2  South-South  Roadside Shops  Southern Ijaw LGA      Shopping complex   \n",
       "3   South-East   General Goods     Enugu North LG             Foam Shop   \n",
       "4   South-West   General Goods       Oyo East LGA           Unspecified   \n",
       "\n",
       "  Fire put out by Reported Start Time Reported Time Put Out Fatalities  \\\n",
       "0    Firefighters                 NaN                   NaN    Unknown   \n",
       "1    Firefighters                 NaN                   NaN         No   \n",
       "2         Traders             4:00 PM                   NaN         No   \n",
       "3    Firefighters             2:00 PM                   NaN         No   \n",
       "4    Firefighters            12:30 AM                   NaN        Yes   \n",
       "\n",
       "   Looting Reported Causes Recurring?       When  \\\n",
       "0  Unknown  Generator Fire         No        N/a   \n",
       "1  Unknown             NaN        Yes  29-Jan-10   \n",
       "2  Unknown     Refuse Fire         No        N/a   \n",
       "3       No  Generator Fire         No        N/a   \n",
       "4      Yes         Unknown         No        N/a   \n",
       "\n",
       "                                     Recurring src  Estimated Loss (N)   \\\n",
       "0                                              NaN         Undisclosed    \n",
       "1  https://allafrica.com/stories/201002030633.html       10,000,000.00    \n",
       "2                                              NaN         Undisclosed    \n",
       "3                                              NaN         Undisclosed    \n",
       "4                                              NaN   20,000,000,000.00    \n",
       "\n",
       "  Effective Use of Fire Extinguishers  \n",
       "0                                 NaN  \n",
       "1                                 NaN  \n",
       "2                                 NaN  \n",
       "3                                 Yes  \n",
       "4                                  No  "
      ]
     },
     "execution_count": 51,
     "metadata": {},
     "output_type": "execute_result"
    }
   ],
   "source": [
    "df.head(5)"
   ]
  },
  {
   "cell_type": "code",
   "execution_count": 52,
   "metadata": {
    "scrolled": true
   },
   "outputs": [
    {
     "data": {
      "text/plain": [
       "(20, 20)"
      ]
     },
     "execution_count": 52,
     "metadata": {},
     "output_type": "execute_result"
    }
   ],
   "source": [
    "df.shape"
   ]
  },
  {
   "cell_type": "markdown",
   "metadata": {},
   "source": [
    "### Data Cleaning"
   ]
  },
  {
   "cell_type": "markdown",
   "metadata": {},
   "source": [
    "#### Dropping useless column(s)"
   ]
  },
  {
   "cell_type": "code",
   "execution_count": 53,
   "metadata": {
    "scrolled": true
   },
   "outputs": [],
   "source": [
    "useless_column = ['Identifier','Reported Start Time','Reported Time Put Out']\n",
    "df.drop(useless_column,1,inplace=True)"
   ]
  },
  {
   "cell_type": "markdown",
   "metadata": {},
   "source": [
    "#### Changing index from 0 to 1"
   ]
  },
  {
   "cell_type": "code",
   "execution_count": 54,
   "metadata": {
    "scrolled": true
   },
   "outputs": [],
   "source": [
    "df.index = np.arange(1, len(df)+1)"
   ]
  },
  {
   "cell_type": "markdown",
   "metadata": {},
   "source": [
    "#### Checking for duplicated values"
   ]
  },
  {
   "cell_type": "code",
   "execution_count": 55,
   "metadata": {
    "scrolled": true
   },
   "outputs": [
    {
     "data": {
      "text/plain": [
       "0"
      ]
     },
     "execution_count": 55,
     "metadata": {},
     "output_type": "execute_result"
    }
   ],
   "source": [
    "df.duplicated().sum()"
   ]
  },
  {
   "cell_type": "markdown",
   "metadata": {},
   "source": [
    "#### Changing the format of Date of Fire"
   ]
  },
  {
   "cell_type": "code",
   "execution_count": 56,
   "metadata": {
    "scrolled": false
   },
   "outputs": [],
   "source": [
    "df['Date of Fire'] = pd.to_datetime(df['Date of Fire'])"
   ]
  },
  {
   "cell_type": "code",
   "execution_count": 57,
   "metadata": {
    "scrolled": true
   },
   "outputs": [
    {
     "data": {
      "text/html": [
       "<div>\n",
       "<style scoped>\n",
       "    .dataframe tbody tr th:only-of-type {\n",
       "        vertical-align: middle;\n",
       "    }\n",
       "\n",
       "    .dataframe tbody tr th {\n",
       "        vertical-align: top;\n",
       "    }\n",
       "\n",
       "    .dataframe thead th {\n",
       "        text-align: right;\n",
       "    }\n",
       "</style>\n",
       "<table border=\"1\" class=\"dataframe\">\n",
       "  <thead>\n",
       "    <tr style=\"text-align: right;\">\n",
       "      <th></th>\n",
       "      <th>Date of Fire</th>\n",
       "      <th>Market Name</th>\n",
       "      <th>Src</th>\n",
       "      <th>State</th>\n",
       "      <th>Region</th>\n",
       "      <th>Type of Market</th>\n",
       "      <th>LGA</th>\n",
       "      <th>Actual Start Location</th>\n",
       "      <th>Fire put out by</th>\n",
       "      <th>Fatalities</th>\n",
       "      <th>Looting</th>\n",
       "      <th>Reported Causes</th>\n",
       "      <th>Recurring?</th>\n",
       "      <th>When</th>\n",
       "      <th>Recurring src</th>\n",
       "      <th>Estimated Loss (N)</th>\n",
       "      <th>Effective Use of Fire Extinguishers</th>\n",
       "    </tr>\n",
       "  </thead>\n",
       "  <tbody>\n",
       "    <tr>\n",
       "      <th>1</th>\n",
       "      <td>2019-12-31</td>\n",
       "      <td>Oja Bisi Market</td>\n",
       "      <td>https://www.voiceairmedia.com/2019/12/few-hour...</td>\n",
       "      <td>Ekiti State</td>\n",
       "      <td>South-West</td>\n",
       "      <td>General Goods</td>\n",
       "      <td>Ado Ekiti</td>\n",
       "      <td>Unspecified</td>\n",
       "      <td>Firefighters</td>\n",
       "      <td>Unknown</td>\n",
       "      <td>Unknown</td>\n",
       "      <td>Generator Fire</td>\n",
       "      <td>No</td>\n",
       "      <td>N/a</td>\n",
       "      <td>NaN</td>\n",
       "      <td>Undisclosed</td>\n",
       "      <td>NaN</td>\n",
       "    </tr>\n",
       "    <tr>\n",
       "      <th>2</th>\n",
       "      <td>2020-01-01</td>\n",
       "      <td>Timber section Industrial Market Umuahia</td>\n",
       "      <td>https://punchng.com/fire-destroys-umuahia-indu...</td>\n",
       "      <td>Abia State</td>\n",
       "      <td>South-East</td>\n",
       "      <td>Timber Market</td>\n",
       "      <td>Umuahia</td>\n",
       "      <td>Timber Section</td>\n",
       "      <td>Firefighters</td>\n",
       "      <td>No</td>\n",
       "      <td>Unknown</td>\n",
       "      <td>NaN</td>\n",
       "      <td>Yes</td>\n",
       "      <td>29-Jan-10</td>\n",
       "      <td>https://allafrica.com/stories/201002030633.html</td>\n",
       "      <td>10,000,000.00</td>\n",
       "      <td>NaN</td>\n",
       "    </tr>\n",
       "    <tr>\n",
       "      <th>3</th>\n",
       "      <td>2020-01-03</td>\n",
       "      <td>Amassoma NDU Shopping complex</td>\n",
       "      <td>https://www.vanguardngr.com/2020/01/fire-destr...</td>\n",
       "      <td>Bayelsa State</td>\n",
       "      <td>South-South</td>\n",
       "      <td>Roadside Shops</td>\n",
       "      <td>Southern Ijaw LGA</td>\n",
       "      <td>Shopping complex</td>\n",
       "      <td>Traders</td>\n",
       "      <td>No</td>\n",
       "      <td>Unknown</td>\n",
       "      <td>Refuse Fire</td>\n",
       "      <td>No</td>\n",
       "      <td>N/a</td>\n",
       "      <td>NaN</td>\n",
       "      <td>Undisclosed</td>\n",
       "      <td>NaN</td>\n",
       "    </tr>\n",
       "  </tbody>\n",
       "</table>\n",
       "</div>"
      ],
      "text/plain": [
       "  Date of Fire                               Market Name  \\\n",
       "1   2019-12-31                           Oja Bisi Market   \n",
       "2   2020-01-01  Timber section Industrial Market Umuahia   \n",
       "3   2020-01-03             Amassoma NDU Shopping complex   \n",
       "\n",
       "                                                 Src          State  \\\n",
       "1  https://www.voiceairmedia.com/2019/12/few-hour...    Ekiti State   \n",
       "2  https://punchng.com/fire-destroys-umuahia-indu...     Abia State   \n",
       "3  https://www.vanguardngr.com/2020/01/fire-destr...  Bayelsa State   \n",
       "\n",
       "       Region   Type of Market                LGA Actual Start Location  \\\n",
       "1   South-West   General Goods          Ado Ekiti           Unspecified   \n",
       "2   South-East   Timber Market            Umuahia        Timber Section   \n",
       "3  South-South  Roadside Shops  Southern Ijaw LGA      Shopping complex   \n",
       "\n",
       "  Fire put out by Fatalities  Looting Reported Causes Recurring?       When  \\\n",
       "1    Firefighters    Unknown  Unknown  Generator Fire         No        N/a   \n",
       "2    Firefighters         No  Unknown             NaN        Yes  29-Jan-10   \n",
       "3         Traders         No  Unknown     Refuse Fire         No        N/a   \n",
       "\n",
       "                                     Recurring src  Estimated Loss (N)   \\\n",
       "1                                              NaN         Undisclosed    \n",
       "2  https://allafrica.com/stories/201002030633.html       10,000,000.00    \n",
       "3                                              NaN         Undisclosed    \n",
       "\n",
       "  Effective Use of Fire Extinguishers  \n",
       "1                                 NaN  \n",
       "2                                 NaN  \n",
       "3                                 NaN  "
      ]
     },
     "execution_count": 57,
     "metadata": {},
     "output_type": "execute_result"
    }
   ],
   "source": [
    "df.head(3)"
   ]
  },
  {
   "cell_type": "markdown",
   "metadata": {},
   "source": [
    "### Exploratory Data Analysis (EDA)"
   ]
  },
  {
   "cell_type": "code",
   "execution_count": 58,
   "metadata": {
    "scrolled": true
   },
   "outputs": [],
   "source": [
    "#### How many fire outbreaks were studied?"
   ]
  },
  {
   "cell_type": "code",
   "execution_count": 59,
   "metadata": {
    "scrolled": true
   },
   "outputs": [
    {
     "data": {
      "text/plain": [
       "(20, 17)"
      ]
     },
     "execution_count": 59,
     "metadata": {},
     "output_type": "execute_result"
    }
   ],
   "source": [
    "df.shape #20"
   ]
  },
  {
   "cell_type": "code",
   "execution_count": 60,
   "metadata": {
    "scrolled": true
   },
   "outputs": [],
   "source": [
    "#### In how many different markets had outbreaks?"
   ]
  },
  {
   "cell_type": "code",
   "execution_count": 61,
   "metadata": {
    "scrolled": false
   },
   "outputs": [
    {
     "data": {
      "text/plain": [
       "20"
      ]
     },
     "execution_count": 61,
     "metadata": {},
     "output_type": "execute_result"
    }
   ],
   "source": [
    "df['Market Name'].nunique() #20"
   ]
  },
  {
   "cell_type": "code",
   "execution_count": 62,
   "metadata": {
    "scrolled": true
   },
   "outputs": [],
   "source": [
    "#### In how many states were fire outbreaks recorded?"
   ]
  },
  {
   "cell_type": "code",
   "execution_count": 63,
   "metadata": {
    "scrolled": true
   },
   "outputs": [
    {
     "data": {
      "text/plain": [
       "12"
      ]
     },
     "execution_count": 63,
     "metadata": {},
     "output_type": "execute_result"
    }
   ],
   "source": [
    "df['State'].nunique()"
   ]
  },
  {
   "cell_type": "code",
   "execution_count": 64,
   "metadata": {
    "scrolled": true
   },
   "outputs": [],
   "source": [
    "#### Which state(s) had the most outbreaks?"
   ]
  },
  {
   "cell_type": "code",
   "execution_count": 101,
   "metadata": {
    "scrolled": true
   },
   "outputs": [
    {
     "data": {
      "image/png": "[encoded data removed]",
      "text/plain": [
       "<Figure size 432x288 with 1 Axes>"
      ]
     },
     "metadata": {
      "needs_background": "light"
     },
     "output_type": "display_data"
    }
   ],
   "source": [
    "fig = plt.figure()\n",
    "axes = fig.add_axes([0.0, 0.1, 2.39, 0.95])\n",
    "axes.set_xlabel('States of outbreaks', fontsize=13)\n",
    "axes.set_ylabel('Number of outbreaks', fontsize=13)\n",
    "axes.set_title('Frequency of outbreaks per state', fontsize=15)\n",
    "states_with_outbreaks = df['State'].value_counts()\n",
    "states_with_outbreaks.plot(kind='bar', x='State' , color='teal', ylim=(0,5), width=0.75)\n",
    "fig.autofmt_xdate(rotation=0,ha='center')"
   ]
  },
  {
   "cell_type": "code",
   "execution_count": 66,
   "metadata": {
    "scrolled": true
   },
   "outputs": [],
   "source": [
    "#### In which type of market did fires break out most?"
   ]
  },
  {
   "cell_type": "code",
   "execution_count": 118,
   "metadata": {
    "scrolled": true
   },
   "outputs": [
    {
     "data": {
      "image/png": "[encoded data removed]",
      "text/plain": [
       "<Figure size 432x288 with 1 Axes>"
      ]
     },
     "metadata": {
      "needs_background": "light"
     },
     "output_type": "display_data"
    }
   ],
   "source": [
    "fig = plt.figure()\n",
    "axes = fig.add_axes([0.6,0.1,1.9,0.95])\n",
    "axes.set_title('Fire outbreaks of each market type', fontsize=13)\n",
    "\n",
    "axes.set_xlabel('Market type', fontsize=12)\n",
    "axes.set_ylabel('Number of fires', fontsize=12)\n",
    "\n",
    "market_type = df['Type of Market']\n",
    "market_type.value_counts().plot(kind='bar', \n",
    "                                  color=['pink','green','brown',(0.9, 0.4, 0.6, 0.6),(0.1, 0.6, 0.6, 0.6),'grey','orange'], width=0.89)\n",
    "\n",
    "fig.autofmt_xdate(rotation=0,ha='center')"
   ]
  },
  {
   "cell_type": "code",
   "execution_count": 68,
   "metadata": {
    "scrolled": true
   },
   "outputs": [],
   "source": [
    "#### What was the most reported cause of fire?"
   ]
  },
  {
   "cell_type": "code",
   "execution_count": 108,
   "metadata": {
    "scrolled": true
   },
   "outputs": [
    {
     "data": {
      "text/plain": [
       "<matplotlib.axes._axes.Axes at 0x2485e2a33a0>"
      ]
     },
     "execution_count": 108,
     "metadata": {},
     "output_type": "execute_result"
    },
    {
     "data": {
      "image/png": "[encoded data removed]",
      "text/plain": [
       "<Figure size 432x288 with 1 Axes>"
      ]
     },
     "metadata": {
      "needs_background": "light"
     },
     "output_type": "display_data"
    }
   ],
   "source": [
    "fig =plt.figure()\n",
    "axes = fig.add_axes([4.9,.1, 0.9,0.95])\n",
    "axes.set_xlabel('Number of fires caused')\n",
    "axes.set_title('Reported causes of fire outbreaks')\n",
    "reported_causes = df['Reported Causes'].value_counts()\n",
    "reported_causes.plot(kind='barh', x='Reported Causes', width=0.7)\n"
   ]
  },
  {
   "cell_type": "code",
   "execution_count": 70,
   "metadata": {
    "scrolled": true
   },
   "outputs": [],
   "source": [
    "#### How many markets experienced recurring outbreaks?"
   ]
  },
  {
   "cell_type": "code",
   "execution_count": 71,
   "metadata": {
    "scrolled": true
   },
   "outputs": [
    {
     "data": {
      "text/plain": [
       "4"
      ]
     },
     "execution_count": 71,
     "metadata": {},
     "output_type": "execute_result"
    }
   ],
   "source": [
    "recurring_outbreaks_count = df['Recurring?'].eq('Yes')\n",
    "recurring_outbreaks_count.sum()"
   ]
  },
  {
   "cell_type": "code",
   "execution_count": 72,
   "metadata": {
    "scrolled": false
   },
   "outputs": [
    {
     "data": {
      "text/plain": [
       "array(['Timber section Industrial Market Umuahia',\n",
       "       'Kugbo Furniture Market', 'Balogun Market ', 'Mile 12 Market'],\n",
       "      dtype=object)"
      ]
     },
     "execution_count": 72,
     "metadata": {},
     "output_type": "execute_result"
    }
   ],
   "source": [
    "recurring_outbreaks_df = df[recurring_outbreaks_count]\n",
    "recurring_outbreaks_df['Market Name'].unique()"
   ]
  },
  {
   "cell_type": "code",
   "execution_count": 73,
   "metadata": {
    "scrolled": true
   },
   "outputs": [],
   "source": [
    "#### Which state had the most recurring outbreaks?"
   ]
  },
  {
   "cell_type": "code",
   "execution_count": 74,
   "metadata": {
    "scrolled": true
   },
   "outputs": [
    {
     "data": {
      "text/plain": [
       "Lagos State    2\n",
       "Abia State     1\n",
       "FCT            1\n",
       "Name: State, dtype: int64"
      ]
     },
     "execution_count": 74,
     "metadata": {},
     "output_type": "execute_result"
    }
   ],
   "source": [
    "recurring_outbreaks_df['State'].value_counts()"
   ]
  },
  {
   "cell_type": "code",
   "execution_count": 75,
   "metadata": {
    "scrolled": true
   },
   "outputs": [],
   "source": [
    "#### How many newspaper companies carried the news of recent fire outbreaks?"
   ]
  },
  {
   "cell_type": "code",
   "execution_count": 76,
   "metadata": {
    "scrolled": true
   },
   "outputs": [
    {
     "data": {
      "text/plain": [
       "19"
      ]
     },
     "execution_count": 76,
     "metadata": {},
     "output_type": "execute_result"
    }
   ],
   "source": [
    "df['Src'].nunique()"
   ]
  },
  {
   "cell_type": "code",
   "execution_count": 77,
   "metadata": {
    "scrolled": true
   },
   "outputs": [
    {
     "data": {
      "text/plain": [
       "22"
      ]
     },
     "execution_count": 77,
     "metadata": {},
     "output_type": "execute_result"
    }
   ],
   "source": [
    "all_sources = np.concatenate((df['Src'], df['Recurring src']))\n",
    "all_sources = pd.Series(all_sources)\n",
    "all_sources.nunique()"
   ]
  },
  {
   "cell_type": "code",
   "execution_count": 78,
   "metadata": {
    "scrolled": true
   },
   "outputs": [],
   "source": [
    "#### Which newspaper(s) can be said to be more reliable for news on fire outbreaks?"
   ]
  },
  {
   "cell_type": "code",
   "execution_count": 79,
   "metadata": {
    "scrolled": true
   },
   "outputs": [
    {
     "data": {
      "text/plain": [
       "0    https://www.pulse.ng/news/local/in-lagos-2-dea...\n",
       "dtype: object"
      ]
     },
     "execution_count": 79,
     "metadata": {},
     "output_type": "execute_result"
    }
   ],
   "source": [
    "all_sources.value_counts()\n",
    "all_sources.mode()"
   ]
  },
  {
   "cell_type": "code",
   "execution_count": 80,
   "metadata": {
    "scrolled": true
   },
   "outputs": [],
   "source": [
    "#### Just how important are fire fighters in controlling and quenching market fires?"
   ]
  },
  {
   "cell_type": "code",
   "execution_count": 109,
   "metadata": {
    "scrolled": true
   },
   "outputs": [
    {
     "data": {
      "image/png": "[encoded data removed]",
      "text/plain": [
       "<Figure size 432x288 with 1 Axes>"
      ]
     },
     "metadata": {
      "needs_background": "light"
     },
     "output_type": "display_data"
    }
   ],
   "source": [
    "fig = plt.figure()\n",
    "axes = fig.add_axes([0.6,0.1,1.3,0.95])\n",
    "axes.set_ylabel('Number of fires put out')\n",
    "\n",
    "fire_stoppers = df['Fire put out by']\n",
    "fire_stoppers.value_counts().plot(kind='bar', color=['darkred','green',(0.2, 0.4, 0.6, 0.6)])\n",
    "\n",
    "fig.autofmt_xdate(rotation=0,ha='center')"
   ]
  },
  {
   "cell_type": "code",
   "execution_count": 82,
   "metadata": {
    "scrolled": true
   },
   "outputs": [],
   "source": [
    "#### Which market fire had fatalities?"
   ]
  },
  {
   "cell_type": "code",
   "execution_count": 83,
   "metadata": {
    "scrolled": false
   },
   "outputs": [
    {
     "data": {
      "text/html": [
       "<div>\n",
       "<style scoped>\n",
       "    .dataframe tbody tr th:only-of-type {\n",
       "        vertical-align: middle;\n",
       "    }\n",
       "\n",
       "    .dataframe tbody tr th {\n",
       "        vertical-align: top;\n",
       "    }\n",
       "\n",
       "    .dataframe thead th {\n",
       "        text-align: right;\n",
       "    }\n",
       "</style>\n",
       "<table border=\"1\" class=\"dataframe\">\n",
       "  <thead>\n",
       "    <tr style=\"text-align: right;\">\n",
       "      <th></th>\n",
       "      <th>Date of Fire</th>\n",
       "      <th>Market Name</th>\n",
       "      <th>Src</th>\n",
       "      <th>State</th>\n",
       "      <th>Region</th>\n",
       "      <th>Type of Market</th>\n",
       "      <th>LGA</th>\n",
       "      <th>Actual Start Location</th>\n",
       "      <th>Fire put out by</th>\n",
       "      <th>Fatalities</th>\n",
       "      <th>Looting</th>\n",
       "      <th>Reported Causes</th>\n",
       "      <th>Recurring?</th>\n",
       "      <th>When</th>\n",
       "      <th>Recurring src</th>\n",
       "      <th>Estimated Loss (N)</th>\n",
       "      <th>Effective Use of Fire Extinguishers</th>\n",
       "    </tr>\n",
       "  </thead>\n",
       "  <tbody>\n",
       "    <tr>\n",
       "      <th>5</th>\n",
       "      <td>2020-01-05</td>\n",
       "      <td>Akesan Market</td>\n",
       "      <td>https://guardian.ng/news/traders-count-losses-...</td>\n",
       "      <td>Oyo State</td>\n",
       "      <td>South-West</td>\n",
       "      <td>General Goods</td>\n",
       "      <td>Oyo East LGA</td>\n",
       "      <td>Unspecified</td>\n",
       "      <td>Firefighters</td>\n",
       "      <td>Yes</td>\n",
       "      <td>Yes</td>\n",
       "      <td>Unknown</td>\n",
       "      <td>No</td>\n",
       "      <td>N/a</td>\n",
       "      <td>NaN</td>\n",
       "      <td>20,000,000,000.00</td>\n",
       "      <td>No</td>\n",
       "    </tr>\n",
       "  </tbody>\n",
       "</table>\n",
       "</div>"
      ],
      "text/plain": [
       "  Date of Fire    Market Name  \\\n",
       "5   2020-01-05  Akesan Market   \n",
       "\n",
       "                                                 Src      State     Region   \\\n",
       "5  https://guardian.ng/news/traders-count-losses-...  Oyo State  South-West   \n",
       "\n",
       "  Type of Market           LGA Actual Start Location Fire put out by  \\\n",
       "5  General Goods  Oyo East LGA           Unspecified    Firefighters   \n",
       "\n",
       "  Fatalities Looting Reported Causes Recurring? When Recurring src  \\\n",
       "5        Yes     Yes         Unknown         No  N/a           NaN   \n",
       "\n",
       "   Estimated Loss (N)  Effective Use of Fire Extinguishers  \n",
       "5   20,000,000,000.00                                   No  "
      ]
     },
     "execution_count": 83,
     "metadata": {},
     "output_type": "execute_result"
    }
   ],
   "source": [
    "fatalities = df[df['Fatalities'].eq('Yes')]\n",
    "fatalities.head()"
   ]
  },
  {
   "cell_type": "code",
   "execution_count": 84,
   "metadata": {
    "scrolled": true
   },
   "outputs": [],
   "source": [
    "#### Which month had the most fire outbreaks?"
   ]
  },
  {
   "cell_type": "code",
   "execution_count": 117,
   "metadata": {
    "scrolled": true
   },
   "outputs": [
    {
     "data": {
      "text/plain": [
       "<matplotlib.axes._axes.Axes at 0x2485ebb7490>"
      ]
     },
     "execution_count": 117,
     "metadata": {},
     "output_type": "execute_result"
    },
    {
     "data": {
      "image/png": "[encoded data removed]",
      "text/plain": [
       "<Figure size 432x288 with 1 Axes>"
      ]
     },
     "metadata": {},
     "output_type": "display_data"
    }
   ],
   "source": [
    "fig = plt.figure()\n",
    "axes = fig.add_axes([0.6,0.1,1,1.])\n",
    "axes.set_title('Fire outbreaks each month')\n",
    "\n",
    "df['Month'] = df['Date of Fire'].dt.month_name()\n",
    "df['Month'].value_counts().plot(kind='pie',autopct='%1.1f%%')"
   ]
  },
  {
   "cell_type": "code",
   "execution_count": 86,
   "metadata": {
    "scrolled": true
   },
   "outputs": [],
   "source": [
    "#### Do the citizens need more enlightenment on the use of extinguishers?"
   ]
  },
  {
   "cell_type": "code",
   "execution_count": 87,
   "metadata": {
    "scrolled": true
   },
   "outputs": [
    {
     "data": {
      "text/plain": [
       "False    19\n",
       "True      1\n",
       "Name: Effective Use of Fire Extinguishers, dtype: int64"
      ]
     },
     "execution_count": 87,
     "metadata": {},
     "output_type": "execute_result"
    }
   ],
   "source": [
    "(df['Effective Use of Fire Extinguishers'].eq('Yes')).value_counts()"
   ]
  },
  {
   "cell_type": "markdown",
   "metadata": {},
   "source": [
    "## Conclusions\n",
    "+ Lagos had the most fire outbreaks.\n",
    "+ Four markets have had recurring outbreaks.\n",
    "+ Two recurring fire outbreaks have been recorded in Lagos.\n",
    "+ Not many fatalities were recorded.\n",
    "+ Punch.ng is most reliable for news on fire outbreaks.\n",
    "+ Firefighters were crucial in controlling and stopping fires.\n",
    "+ Most of the market fires in 2020 occurred in January.\n",
    "\n",
    "#### Possible solutions\n",
    "+ Citizens need to be enlightened on the use of fire extinguishers and other control methods.\n",
    "+ To reduce fatality, firefighters should be contacted as early as possible."
   ]
  }
 ],
 "metadata": {
  "kernelspec": {
   "display_name": "Python 3",
   "language": "python",
   "name": "python3"
  },
  "language_info": {
   "codemirror_mode": {
    "name": "ipython",
    "version": 3
   },
   "file_extension": ".py",
   "mimetype": "text/x-python",
   "name": "python",
   "nbconvert_exporter": "python",
   "pygments_lexer": "ipython3",
   "version": "3.8.3"
  }
 },
 "nbformat": 4,
 "nbformat_minor": 4
}
